{
 "cells": [
  {
   "cell_type": "code",
   "execution_count": 1,
   "metadata": {},
   "outputs": [],
   "source": [
    "from pytube import YouTube"
   ]
  },
  {
   "cell_type": "code",
   "execution_count": 4,
   "metadata": {},
   "outputs": [],
   "source": [
    "my_link = YouTube('https://www.youtube.com/watch?v=VweUFkwNQt4')\n",
    "save_path = 'C:/Users/digvi/Desktop/'"
   ]
  },
  {
   "cell_type": "markdown",
   "metadata": {},
   "source": [
    "# Exploring YouTube() "
   ]
  },
  {
   "cell_type": "code",
   "execution_count": 5,
   "metadata": {},
   "outputs": [
    {
     "name": "stdout",
     "output_type": "stream",
     "text": [
      "Gravitas: Is China running out of food?\n"
     ]
    }
   ],
   "source": [
    "print(my_link.title)"
   ]
  },
  {
   "cell_type": "code",
   "execution_count": 6,
   "metadata": {},
   "outputs": [
    {
     "name": "stdout",
     "output_type": "stream",
     "text": [
      "378\n"
     ]
    }
   ],
   "source": [
    "print(my_link.length)"
   ]
  },
  {
   "cell_type": "code",
   "execution_count": 7,
   "metadata": {},
   "outputs": [
    {
     "name": "stdout",
     "output_type": "stream",
     "text": [
      "Chinese President Xi Jinping has launched 'Operation Empty Plate' - and asked people to stop wasting food. China's crops have been wiped out by mass flooding. With food prices on the rise - is China staring at a food crisis? Palki Sharma Upadhyay tells you more. \n",
      "\n",
      "\n",
      "\n",
      "#Gravitas #WION #China\n",
      "\n",
      "\n",
      "\n",
      "About Channel: \n",
      "\n",
      "WION -The World is One News, examines global issues with in-depth analysis. We provide much more than the news of the day. Our aim to empower people to explore their world. With our Global headquarters in New Delhi, we bring you news on the hour, by the hour. We deliver information that is not biased. We are journalists who are neutral to the core and non-partisan when it comes to the politics of the world. People are tired of biased reportage and we stand for a globalised united world. So for us the World is truly One.\n",
      " \n",
      "Please keep discussions on this channel clean and respectful and refrain from using racist or sexist slurs as well as personal insults.\n",
      "\n",
      "Subscribe to our channel at https://goo.gl/JfY3NI\n",
      "Check out our website: http://www.wionews.com\n",
      "Connect with us on our social media handles:\n",
      "Facebook: https://www.facebook.com/WIONews\n",
      "Twitter: https://twitter.com/WIONews\n",
      "\n",
      "Follow us on Google News for latest updates\n",
      "\n",
      "Zee News:- https://bit.ly/2Ac5G60\n",
      "Zee Bussiness:- https://bit.ly/36vI2xa\n",
      "DNA India:- https://bit.ly/2ZDuLRY\n",
      "WION: https://bit.ly/3gnDb5J\n",
      "Zee News Apps : https://bit.ly/ZeeNewsApps\n"
     ]
    }
   ],
   "source": [
    "print(my_link.description)"
   ]
  },
  {
   "cell_type": "code",
   "execution_count": 8,
   "metadata": {},
   "outputs": [
    {
     "name": "stdout",
     "output_type": "stream",
     "text": [
      "215153\n"
     ]
    }
   ],
   "source": [
    "print(my_link.views)"
   ]
  },
  {
   "cell_type": "code",
   "execution_count": 9,
   "metadata": {},
   "outputs": [
    {
     "name": "stdout",
     "output_type": "stream",
     "text": [
      "4.9022307\n"
     ]
    }
   ],
   "source": [
    "print(my_link.rating)"
   ]
  },
  {
   "cell_type": "code",
   "execution_count": 10,
   "metadata": {},
   "outputs": [
    {
     "name": "stdout",
     "output_type": "stream",
     "text": [
      "False\n"
     ]
    }
   ],
   "source": [
    "print(my_link.age_restricted)"
   ]
  },
  {
   "cell_type": "code",
   "execution_count": 11,
   "metadata": {},
   "outputs": [
    {
     "name": "stdout",
     "output_type": "stream",
     "text": [
      "VweUFkwNQt4\n"
     ]
    }
   ],
   "source": [
    "print(my_link.video_id)"
   ]
  },
  {
   "cell_type": "code",
   "execution_count": 14,
   "metadata": {},
   "outputs": [
    {
     "data": {
      "text/plain": [
       "<Stream: itag=\"18\" mime_type=\"video/mp4\" res=\"360p\" fps=\"30fps\" vcodec=\"avc1.42001E\" acodec=\"mp4a.40.2\" progressive=\"True\" type=\"video\">"
      ]
     },
     "execution_count": 14,
     "metadata": {},
     "output_type": "execute_result"
    }
   ],
   "source": [
    "yt_stream = YouTube('https://www.youtube.com/watch?v=VweUFkwNQt4').streams.first()\n",
    "yt_stream"
   ]
  },
  {
   "cell_type": "markdown",
   "metadata": {},
   "source": [
    "# Download the video"
   ]
  },
  {
   "cell_type": "code",
   "execution_count": 13,
   "metadata": {},
   "outputs": [
    {
     "data": {
      "text/plain": [
       "'C:/Users/digvi/Desktop/Gravitas Is China running out of food.mp4'"
      ]
     },
     "execution_count": 13,
     "metadata": {},
     "output_type": "execute_result"
    }
   ],
   "source": [
    "yt_stream.download(save_path)"
   ]
  },
  {
   "cell_type": "code",
   "execution_count": null,
   "metadata": {},
   "outputs": [],
   "source": []
  }
 ],
 "metadata": {
  "kernelspec": {
   "display_name": "Python 3",
   "language": "python",
   "name": "python3"
  },
  "language_info": {
   "codemirror_mode": {
    "name": "ipython",
    "version": 3
   },
   "file_extension": ".py",
   "mimetype": "text/x-python",
   "name": "python",
   "nbconvert_exporter": "python",
   "pygments_lexer": "ipython3",
   "version": "3.7.6"
  }
 },
 "nbformat": 4,
 "nbformat_minor": 4
}
